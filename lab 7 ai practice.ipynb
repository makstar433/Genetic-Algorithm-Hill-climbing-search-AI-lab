{
 "cells": [
  {
   "cell_type": "code",
   "execution_count": 1,
   "id": "76152871",
   "metadata": {},
   "outputs": [
    {
     "ename": "NameError",
     "evalue": "name 'np' is not defined",
     "output_type": "error",
     "traceback": [
      "\u001b[1;31m---------------------------------------------------------------------------\u001b[0m",
      "\u001b[1;31mNameError\u001b[0m                                 Traceback (most recent call last)",
      "\u001b[1;32m~\\AppData\\Local\\Temp\\ipykernel_3592\\2789910962.py\u001b[0m in \u001b[0;36m<module>\u001b[1;34m\u001b[0m\n\u001b[0;32m      1\u001b[0m \u001b[0ma\u001b[0m\u001b[1;33m=\u001b[0m\u001b[1;33m[\u001b[0m\u001b[1;36m1\u001b[0m\u001b[1;33m,\u001b[0m\u001b[1;36m2\u001b[0m\u001b[1;33m,\u001b[0m\u001b[1;36m3\u001b[0m\u001b[1;33m]\u001b[0m\u001b[1;33m\u001b[0m\u001b[1;33m\u001b[0m\u001b[0m\n\u001b[0;32m      2\u001b[0m \u001b[0mb\u001b[0m\u001b[1;33m=\u001b[0m\u001b[1;33m[\u001b[0m\u001b[1;36m4\u001b[0m\u001b[1;33m,\u001b[0m\u001b[1;36m5\u001b[0m\u001b[1;33m,\u001b[0m\u001b[1;36m6\u001b[0m\u001b[1;33m]\u001b[0m\u001b[1;33m\u001b[0m\u001b[1;33m\u001b[0m\u001b[0m\n\u001b[1;32m----> 3\u001b[1;33m \u001b[0mA\u001b[0m\u001b[1;33m,\u001b[0m\u001b[0mB\u001b[0m\u001b[1;33m=\u001b[0m\u001b[0mnp\u001b[0m\u001b[1;33m.\u001b[0m\u001b[0mmeshgrid\u001b[0m\u001b[1;33m(\u001b[0m\u001b[0ma\u001b[0m\u001b[1;33m,\u001b[0m\u001b[0mb\u001b[0m\u001b[1;33m)\u001b[0m\u001b[1;33m\u001b[0m\u001b[1;33m\u001b[0m\u001b[0m\n\u001b[0m\u001b[0;32m      4\u001b[0m \u001b[0mB\u001b[0m\u001b[1;33m\u001b[0m\u001b[1;33m\u001b[0m\u001b[0m\n",
      "\u001b[1;31mNameError\u001b[0m: name 'np' is not defined"
     ]
    }
   ],
   "source": [
    "a=[1,2,3]\n",
    "b=[4,5,6]\n",
    "A,B=np.meshgrid(a,b)\n",
    "B"
   ]
  },
  {
   "cell_type": "code",
   "execution_count": null,
   "id": "f9b1e5fe",
   "metadata": {},
   "outputs": [],
   "source": [
    "a=2\n",
    "b=4\n",
    "eval(\"a**2+b**3\")"
   ]
  },
  {
   "cell_type": "code",
   "execution_count": 2,
   "id": "739aaeaa",
   "metadata": {},
   "outputs": [
    {
     "ename": "NameError",
     "evalue": "name 'np' is not defined",
     "output_type": "error",
     "traceback": [
      "\u001b[1;31m---------------------------------------------------------------------------\u001b[0m",
      "\u001b[1;31mNameError\u001b[0m                                 Traceback (most recent call last)",
      "\u001b[1;32m~\\AppData\\Local\\Temp\\ipykernel_3592\\1584292289.py\u001b[0m in \u001b[0;36m<module>\u001b[1;34m\u001b[0m\n\u001b[0;32m     66\u001b[0m \u001b[1;33m\u001b[0m\u001b[0m\n\u001b[0;32m     67\u001b[0m \u001b[1;31m# Run GA\u001b[0m\u001b[1;33m\u001b[0m\u001b[1;33m\u001b[0m\u001b[0m\n\u001b[1;32m---> 68\u001b[1;33m \u001b[0mbest_individual\u001b[0m \u001b[1;33m=\u001b[0m \u001b[0mrun_ga\u001b[0m\u001b[1;33m(\u001b[0m\u001b[0mfitness_func1\u001b[0m\u001b[1;33m,\u001b[0m \u001b[0mgenotype_size\u001b[0m\u001b[1;33m,\u001b[0m \u001b[0mpopulation_size\u001b[0m\u001b[1;33m,\u001b[0m \u001b[0mmax_generations\u001b[0m\u001b[1;33m,\u001b[0m \u001b[0mtournament_size\u001b[0m\u001b[1;33m,\u001b[0m \u001b[0mcrossover_rate\u001b[0m\u001b[1;33m,\u001b[0m \u001b[0mmutation_rate\u001b[0m\u001b[1;33m)\u001b[0m\u001b[1;33m\u001b[0m\u001b[1;33m\u001b[0m\u001b[0m\n\u001b[0m\u001b[0;32m     69\u001b[0m \u001b[1;33m\u001b[0m\u001b[0m\n\u001b[0;32m     70\u001b[0m \u001b[1;31m# Decode best individual\u001b[0m\u001b[1;33m\u001b[0m\u001b[1;33m\u001b[0m\u001b[0m\n",
      "\u001b[1;32m~\\AppData\\Local\\Temp\\ipykernel_3592\\1584292289.py\u001b[0m in \u001b[0;36mrun_ga\u001b[1;34m(fitness_func, genotype_size, population_size, max_generations, tournament_size, crossover_rate, mutation_rate)\u001b[0m\n\u001b[0;32m     38\u001b[0m \u001b[1;33m\u001b[0m\u001b[0m\n\u001b[0;32m     39\u001b[0m \u001b[1;32mdef\u001b[0m \u001b[0mrun_ga\u001b[0m\u001b[1;33m(\u001b[0m\u001b[0mfitness_func\u001b[0m\u001b[1;33m,\u001b[0m \u001b[0mgenotype_size\u001b[0m\u001b[1;33m,\u001b[0m \u001b[0mpopulation_size\u001b[0m\u001b[1;33m,\u001b[0m \u001b[0mmax_generations\u001b[0m\u001b[1;33m,\u001b[0m \u001b[0mtournament_size\u001b[0m\u001b[1;33m,\u001b[0m \u001b[0mcrossover_rate\u001b[0m\u001b[1;33m,\u001b[0m \u001b[0mmutation_rate\u001b[0m\u001b[1;33m)\u001b[0m\u001b[1;33m:\u001b[0m\u001b[1;33m\u001b[0m\u001b[1;33m\u001b[0m\u001b[0m\n\u001b[1;32m---> 40\u001b[1;33m     \u001b[0mpopulation\u001b[0m \u001b[1;33m=\u001b[0m \u001b[0minitialize_population\u001b[0m\u001b[1;33m(\u001b[0m\u001b[0mpopulation_size\u001b[0m\u001b[1;33m)\u001b[0m\u001b[1;33m\u001b[0m\u001b[1;33m\u001b[0m\u001b[0m\n\u001b[0m\u001b[0;32m     41\u001b[0m     \u001b[0mbest_individual\u001b[0m \u001b[1;33m=\u001b[0m \u001b[1;32mNone\u001b[0m\u001b[1;33m\u001b[0m\u001b[1;33m\u001b[0m\u001b[0m\n\u001b[0;32m     42\u001b[0m     \u001b[1;32mfor\u001b[0m \u001b[0mgeneration\u001b[0m \u001b[1;32min\u001b[0m \u001b[0mrange\u001b[0m\u001b[1;33m(\u001b[0m\u001b[0mmax_generations\u001b[0m\u001b[1;33m)\u001b[0m\u001b[1;33m:\u001b[0m\u001b[1;33m\u001b[0m\u001b[1;33m\u001b[0m\u001b[0m\n",
      "\u001b[1;32m~\\AppData\\Local\\Temp\\ipykernel_3592\\1584292289.py\u001b[0m in \u001b[0;36minitialize_population\u001b[1;34m(population_size)\u001b[0m\n\u001b[0;32m     14\u001b[0m \u001b[1;33m\u001b[0m\u001b[0m\n\u001b[0;32m     15\u001b[0m \u001b[1;32mdef\u001b[0m \u001b[0minitialize_population\u001b[0m\u001b[1;33m(\u001b[0m\u001b[0mpopulation_size\u001b[0m\u001b[1;33m)\u001b[0m\u001b[1;33m:\u001b[0m\u001b[1;33m\u001b[0m\u001b[1;33m\u001b[0m\u001b[0m\n\u001b[1;32m---> 16\u001b[1;33m     \u001b[1;32mreturn\u001b[0m \u001b[1;33m[\u001b[0m\u001b[0mencode_genotype\u001b[0m\u001b[1;33m(\u001b[0m\u001b[0mnp\u001b[0m\u001b[1;33m.\u001b[0m\u001b[0mrandom\u001b[0m\u001b[1;33m.\u001b[0m\u001b[0muniform\u001b[0m\u001b[1;33m(\u001b[0m\u001b[1;33m-\u001b[0m\u001b[1;36m2\u001b[0m\u001b[1;33m,\u001b[0m \u001b[1;36m2\u001b[0m\u001b[1;33m)\u001b[0m\u001b[1;33m,\u001b[0m \u001b[0mnp\u001b[0m\u001b[1;33m.\u001b[0m\u001b[0mrandom\u001b[0m\u001b[1;33m.\u001b[0m\u001b[0muniform\u001b[0m\u001b[1;33m(\u001b[0m\u001b[1;33m-\u001b[0m\u001b[1;36m2\u001b[0m\u001b[1;33m,\u001b[0m \u001b[1;36m2\u001b[0m\u001b[1;33m)\u001b[0m\u001b[1;33m)\u001b[0m \u001b[1;32mfor\u001b[0m \u001b[0m_\u001b[0m \u001b[1;32min\u001b[0m \u001b[0mrange\u001b[0m\u001b[1;33m(\u001b[0m\u001b[0mpopulation_size\u001b[0m\u001b[1;33m)\u001b[0m\u001b[1;33m]\u001b[0m\u001b[1;33m\u001b[0m\u001b[1;33m\u001b[0m\u001b[0m\n\u001b[0m\u001b[0;32m     17\u001b[0m \u001b[1;33m\u001b[0m\u001b[0m\n\u001b[0;32m     18\u001b[0m \u001b[1;32mdef\u001b[0m \u001b[0mtournament_selection\u001b[0m\u001b[1;33m(\u001b[0m\u001b[0mpopulation\u001b[0m\u001b[1;33m,\u001b[0m \u001b[0mfitness_func\u001b[0m\u001b[1;33m,\u001b[0m \u001b[0mtournament_size\u001b[0m\u001b[1;33m)\u001b[0m\u001b[1;33m:\u001b[0m\u001b[1;33m\u001b[0m\u001b[1;33m\u001b[0m\u001b[0m\n",
      "\u001b[1;32m~\\AppData\\Local\\Temp\\ipykernel_3592\\1584292289.py\u001b[0m in \u001b[0;36m<listcomp>\u001b[1;34m(.0)\u001b[0m\n\u001b[0;32m     14\u001b[0m \u001b[1;33m\u001b[0m\u001b[0m\n\u001b[0;32m     15\u001b[0m \u001b[1;32mdef\u001b[0m \u001b[0minitialize_population\u001b[0m\u001b[1;33m(\u001b[0m\u001b[0mpopulation_size\u001b[0m\u001b[1;33m)\u001b[0m\u001b[1;33m:\u001b[0m\u001b[1;33m\u001b[0m\u001b[1;33m\u001b[0m\u001b[0m\n\u001b[1;32m---> 16\u001b[1;33m     \u001b[1;32mreturn\u001b[0m \u001b[1;33m[\u001b[0m\u001b[0mencode_genotype\u001b[0m\u001b[1;33m(\u001b[0m\u001b[0mnp\u001b[0m\u001b[1;33m.\u001b[0m\u001b[0mrandom\u001b[0m\u001b[1;33m.\u001b[0m\u001b[0muniform\u001b[0m\u001b[1;33m(\u001b[0m\u001b[1;33m-\u001b[0m\u001b[1;36m2\u001b[0m\u001b[1;33m,\u001b[0m \u001b[1;36m2\u001b[0m\u001b[1;33m)\u001b[0m\u001b[1;33m,\u001b[0m \u001b[0mnp\u001b[0m\u001b[1;33m.\u001b[0m\u001b[0mrandom\u001b[0m\u001b[1;33m.\u001b[0m\u001b[0muniform\u001b[0m\u001b[1;33m(\u001b[0m\u001b[1;33m-\u001b[0m\u001b[1;36m2\u001b[0m\u001b[1;33m,\u001b[0m \u001b[1;36m2\u001b[0m\u001b[1;33m)\u001b[0m\u001b[1;33m)\u001b[0m \u001b[1;32mfor\u001b[0m \u001b[0m_\u001b[0m \u001b[1;32min\u001b[0m \u001b[0mrange\u001b[0m\u001b[1;33m(\u001b[0m\u001b[0mpopulation_size\u001b[0m\u001b[1;33m)\u001b[0m\u001b[1;33m]\u001b[0m\u001b[1;33m\u001b[0m\u001b[1;33m\u001b[0m\u001b[0m\n\u001b[0m\u001b[0;32m     17\u001b[0m \u001b[1;33m\u001b[0m\u001b[0m\n\u001b[0;32m     18\u001b[0m \u001b[1;32mdef\u001b[0m \u001b[0mtournament_selection\u001b[0m\u001b[1;33m(\u001b[0m\u001b[0mpopulation\u001b[0m\u001b[1;33m,\u001b[0m \u001b[0mfitness_func\u001b[0m\u001b[1;33m,\u001b[0m \u001b[0mtournament_size\u001b[0m\u001b[1;33m)\u001b[0m\u001b[1;33m:\u001b[0m\u001b[1;33m\u001b[0m\u001b[1;33m\u001b[0m\u001b[0m\n",
      "\u001b[1;31mNameError\u001b[0m: name 'np' is not defined"
     ]
    }
   ],
   "source": [
    "def fitness_func1(individual):\n",
    "    x, y = decode_genotype(individual)\n",
    "    return -(1-x)**2 - 100*(y-x**2)**2\n",
    "\n",
    "def encode_genotype(x, y):\n",
    "    x = int((x + 2) * 2**16 / 4)\n",
    "    y = int((y + 2) * 2**16 / 4)\n",
    "    return f\"{x:016b}{y:016b}\"\n",
    "\n",
    "def decode_genotype(genotype):\n",
    "    x = int(genotype[:16], 2) * 4 / 2**16 - 2\n",
    "    y = int(genotype[16:], 2) * 4 / 2**16 - 2\n",
    "    return x, y\n",
    "\n",
    "def initialize_population(population_size):\n",
    "    return [encode_genotype(np.random.uniform(-2, 2), np.random.uniform(-2, 2)) for _ in range(population_size)]\n",
    "\n",
    "def tournament_selection(population, fitness_func, tournament_size):\n",
    "    tournament = np.random.choice(population, size=tournament_size)\n",
    "    fitnesses = [fitness_func(individual) for individual in tournament]\n",
    "    return tournament[np.argmax(fitnesses)]\n",
    "\n",
    "def crossover(parent1, parent2, crossover_rate):\n",
    "    if np.random.uniform() < crossover_rate:\n",
    "        crossover_point = np.random.randint(len(parent1))\n",
    "        child1 = parent1[:crossover_point] + parent2[crossover_point:]\n",
    "        child2 = parent2[:crossover_point] + parent1[crossover_point:]\n",
    "        return child1, child2\n",
    "    else:\n",
    "        return parent1, parent2\n",
    "\n",
    "def mutation(individual, mutation_rate):\n",
    "    individual = list(individual)\n",
    "    for i in range(len(individual)):\n",
    "        if np.random.uniform() < mutation_rate:\n",
    "            individual[i] = \"0\" if individual[i] == \"1\" else \"1\"\n",
    "    return \"\".join(individual)\n",
    "\n",
    "def run_ga(fitness_func, genotype_size, population_size, max_generations, tournament_size, crossover_rate, mutation_rate):\n",
    "    population = initialize_population(population_size)\n",
    "    best_individual = None\n",
    "    for generation in range(max_generations):\n",
    "        parents = [tournament_selection(population, fitness_func, tournament_size) for _ in range(population_size // 2)]\n",
    "        offspring = []\n",
    "        for parent1, parent2 in zip(parents[::2], parents[1::2]):\n",
    "            child1, child2 = crossover(parent1, parent2, crossover_rate)\n",
    "            offspring.append(mutation(child1, mutation_rate))\n",
    "            offspring.append(mutation(child2, mutation_rate))\n",
    "        population = parents + offspring\n",
    "        fitnesses = [fitness_func(individual) for individual in population]\n",
    "        best_fitness = np.max(fitnesses)\n",
    "        best_individual = population[np.argmax(fitnesses)]\n",
    "        if generation % 10 == 0:\n",
    "            print(f\"Generation {generation}, Best Fitness: {best_fitness}\")\n",
    "        if best_fitness == 0:\n",
    "            break\n",
    "    return best_individual\n",
    "\n",
    "# Define GA parameters\n",
    "genotype_size = 32\n",
    "population_size = 100\n",
    "max_generations = 1000\n",
    "tournament_size = 3\n",
    "crossover_rate = 0.8\n",
    "mutation_rate = 0.01\n",
    "\n",
    "# Run GA\n",
    "best_individual = run_ga(fitness_func1, genotype_size, population_size, max_generations, tournament_size, crossover_rate, mutation_rate)\n",
    "\n",
    "# Decode best individual\n",
    "x, y = decode_genotype(best_individual)\n",
    "print(f\"Optimal solution: x={x}, y={y}, f(x,y)={fitness_func1(best_individual)}\")"
   ]
  },
  {
   "cell_type": "code",
   "execution_count": null,
   "id": "d296da93",
   "metadata": {},
   "outputs": [],
   "source": [
    "def fitness_func2(individual):\n",
    "    x, y = decode_genotype(individual)\n",
    "    return np.exp(-(x**2 + y**2))\n",
    "\n",
    "def encode_genotype(x, y):\n",
    "    x = int((x + 2) * 2**16 / 4)\n",
    "    y = int((y + 2) * 2**16 / 4)\n",
    "    return f\"{x:016b}{y:016b}\"\n",
    "\n",
    "def decode_genotype(genotype):\n",
    "    x = int(genotype[:16], 2) * 4 / 2**16 - 2\n",
    "    y = int(genotype[16:], 2) * 4 / 2**16 - 2\n",
    "    return x, y\n",
    "\n",
    "# Define GA parameters\n",
    "genotype_size = 32\n",
    "population_size = 100\n",
    "max_generations = 1000\n",
    "tournament_size = 3\n",
    "crossover_rate = 0.8\n",
    "mutation_rate = 0.01\n",
    "\n",
    "# Run GA\n",
    "best_individual = run_ga(fitness_func2, genotype_size, population_size, max_generations, tournament_size, crossover_rate, mutation_rate)\n",
    "\n",
    "# Decode best individual\n",
    "x, y = decode_genotype(best_individual)\n",
    "print(f\"Optimal solution: x={x}, y={y}, f(x,y)={fitness_func2(best_individual)}\")\n"
   ]
  },
  {
   "cell_type": "code",
   "execution_count": null,
   "id": "725fea24",
   "metadata": {},
   "outputs": [],
   "source": []
  }
 ],
 "metadata": {
  "kernelspec": {
   "display_name": "Python 3 (ipykernel)",
   "language": "python",
   "name": "python3"
  },
  "language_info": {
   "codemirror_mode": {
    "name": "ipython",
    "version": 3
   },
   "file_extension": ".py",
   "mimetype": "text/x-python",
   "name": "python",
   "nbconvert_exporter": "python",
   "pygments_lexer": "ipython3",
   "version": "3.9.13"
  }
 },
 "nbformat": 4,
 "nbformat_minor": 5
}
